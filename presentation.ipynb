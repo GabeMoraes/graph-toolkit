{
 "cells": [
  {
   "cell_type": "code",
   "execution_count": null,
   "id": "4860582c",
   "metadata": {},
   "outputs": [],
   "source": [
    "from graph_lib import Graph"
   ]
  },
  {
   "cell_type": "code",
   "execution_count": null,
   "id": "acfa2895",
   "metadata": {},
   "outputs": [],
   "source": [
    "g = Graph(representation='adj_list', data_path='data.txt')"
   ]
  },
  {
   "cell_type": "code",
   "execution_count": null,
   "id": "e8c43dde",
   "metadata": {},
   "outputs": [],
   "source": [
    "print(g.num_edges())\n",
    "print(g.average_degree())\n",
    "print(g.degree_distribution())"
   ]
  },
  {
   "cell_type": "code",
   "execution_count": null,
   "id": "833ec88b",
   "metadata": {},
   "outputs": [],
   "source": [
    "parent, level = g.bfs('4')\n",
    "print(parent)\n",
    "print(level)"
   ]
  },
  {
   "cell_type": "code",
   "execution_count": null,
   "id": "76c1c63b",
   "metadata": {},
   "outputs": [],
   "source": [
    "parent, level = g.dfs('4')\n",
    "print(parent)\n",
    "print(level)"
   ]
  }
 ],
 "metadata": {
  "kernelspec": {
   "display_name": "base",
   "language": "python",
   "name": "python3"
  },
  "language_info": {
   "codemirror_mode": {
    "name": "ipython",
    "version": 3
   },
   "file_extension": ".py",
   "mimetype": "text/x-python",
   "name": "python",
   "nbconvert_exporter": "python",
   "pygments_lexer": "ipython3",
   "version": "3.12.3"
  }
 },
 "nbformat": 4,
 "nbformat_minor": 5
}
